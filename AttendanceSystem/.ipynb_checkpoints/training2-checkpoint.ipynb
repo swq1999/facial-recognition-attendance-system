{
 "cells": [
  {
   "cell_type": "markdown",
   "id": "91519448",
   "metadata": {},
   "source": [
    "## Imports"
   ]
  },
  {
   "cell_type": "code",
   "execution_count": 1,
   "id": "70f205c8",
   "metadata": {},
   "outputs": [
    {
     "name": "stdout",
     "output_type": "stream",
     "text": [
      "WARNING:tensorflow:From D:\\Anaconda\\Lib\\site-packages\\keras\\src\\losses.py:2976: The name tf.losses.sparse_softmax_cross_entropy is deprecated. Please use tf.compat.v1.losses.sparse_softmax_cross_entropy instead.\n",
      "\n"
     ]
    }
   ],
   "source": [
    "import os\n",
    "import numpy as np\n",
    "import json\n",
    "import cv2\n",
    "from sklearn.metrics import classification_report, accuracy_score, precision_score, recall_score, f1_score, confusion_matrix\n",
    "from sklearn.utils.class_weight import compute_class_weight\n",
    "from sklearn.model_selection import train_test_split\n",
    "from skimage.io import imread\n",
    "from skimage.transform import resize\n",
    "import imageio\n",
    "import matplotlib.pyplot as plt\n",
    "import seaborn as sns\n",
    "from keras.layers import BatchNormalization\n",
    "from keras.models import Sequential, load_model\n",
    "from keras.layers import Conv2D, MaxPooling2D, Flatten, Dense, Dropout\n",
    "from keras.optimizers import Adam\n",
    "from keras.utils import to_categorical\n",
    "from keras.callbacks import EarlyStopping, ReduceLROnPlateau\n",
    "from keras.regularizers import l2\n",
    "from keras.preprocessing.image import ImageDataGenerator\n",
    "from datetime import datetime"
   ]
  },
  {
   "cell_type": "code",
   "execution_count": 9,
   "id": "cfbf6d33",
   "metadata": {},
   "outputs": [],
   "source": [
    "# Initialize variables\n",
    "data = []\n",
    "labels = []\n",
    "height, width = 96, 96\n",
    "    \n",
    "# Load the OpenCV pre-trained Haar Cascade for face detection\n",
    "face_cascade = cv2.CascadeClassifier(cv2.data.haarcascades + 'haarcascade_frontalface_default.xml')"
   ]
  },
  {
   "cell_type": "markdown",
   "id": "5f652583",
   "metadata": {},
   "source": [
    "## Preprocess Function"
   ]
  },
  {
   "cell_type": "code",
   "execution_count": 10,
   "id": "e13eb616",
   "metadata": {},
   "outputs": [],
   "source": [
    "# Preprocess function\n",
    "def preprocess(images_dir, height, width, data, labels, face_cascade, employee, max_images=175):\n",
    "    saved_images = 0  # Counter for saved images\n",
    "    \n",
    "    # Employee-specific directory if it doesn't exist\n",
    "    employee_dir = os.path.join(\"preprocessedData\", employee)\n",
    "    os.makedirs(employee_dir, exist_ok=True)\n",
    "\n",
    "    # To stop after reaching max images\n",
    "    for index, name in enumerate(os.listdir(images_dir)):\n",
    "        if saved_images >= max_images:\n",
    "            break\n",
    "        \n",
    "        image_path = os.path.join(images_dir, name)\n",
    "        \n",
    "        # Read images\n",
    "        try:\n",
    "            image = imread(image_path)\n",
    "        except Exception as e:\n",
    "            print(f\"skimage failed to read {image_path}.\")\n",
    "            try:\n",
    "                image = imageio.imread(image_path)\n",
    "            except Exception as e:\n",
    "                print(f\"Failed to read {image_path} with imageio. Skipping.\")\n",
    "                continue\n",
    "        \n",
    "        # Process images and detect faces\n",
    "        try:\n",
    "            gray = cv2.cvtColor(image, cv2.COLOR_BGR2GRAY)\n",
    "            faces = face_cascade.detectMultiScale(gray, scaleFactor=1.1, minNeighbors=5)\n",
    "        except Exception as e:\n",
    "            print(f\"Error processing {image_path}. Skipping.\")\n",
    "            continue\n",
    "\n",
    "        # If at least one face is detected, crop the first face found\n",
    "        if len(faces) > 0:\n",
    "            (x, y, w, h) = faces[0]\n",
    "            face = image[y:y+h, x:x+w]\n",
    "\n",
    "            # Ensure the face has 3 channels (RGB)\n",
    "            if face.shape[-1] != 3:\n",
    "                print(f\"Image {image_path} does not have 3 channels. Skipping.\")\n",
    "                continue\n",
    "\n",
    "            # Resize the face\n",
    "            face = cv2.resize(face, (height, width))\n",
    "            \n",
    "            try:\n",
    "                # Save the validated image in the employee-specific folder\n",
    "                save_path = os.path.join(employee_dir, f\"{employee}_{index}.jpg\")\n",
    "                cv2.imwrite(save_path, face)\n",
    "                saved_images += 1  # Increment the counter for saved images\n",
    "            except Exception as e:\n",
    "                print(f\"Failed to save {image_path}. Skipping.\")\n",
    "                continue\n",
    "            \n",
    "            # Save in variables\n",
    "            data.append(face)\n",
    "            labels.append(employee)\n",
    "\n",
    "    print(f\"{employee}: {saved_images} images\")"
   ]
  },
  {
   "cell_type": "markdown",
   "id": "701ae919",
   "metadata": {},
   "source": [
    "## Preprocess Data"
   ]
  },
  {
   "cell_type": "code",
   "execution_count": 11,
   "id": "4fbfdf9f",
   "metadata": {},
   "outputs": [
    {
     "name": "stdout",
     "output_type": "stream",
     "text": [
      "Alexandra Daddario: 175 images\n",
      "Andy Samberg: 175 images\n",
      "Emilia Clarke: 175 images\n",
      "Henry Cavil: 168 images\n",
      "Leonardo DiCaprio: 175 images\n"
     ]
    }
   ],
   "source": [
    "# Preprocess data\n",
    "employees_dir = \"employees\"\n",
    "employees = os.listdir(employees_dir)\n",
    "        \n",
    "# Get images from employee directory and detect faces\n",
    "for employee in employees:\n",
    "    images_dir = os.path.join(employees_dir, employee)\n",
    "    preprocess(images_dir, height, width, data, labels, face_cascade, employee)\n",
    "            \n",
    "# Saving labels\n",
    "with open(\"labels.json\", \"w\") as file:\n",
    "    json.dump(sorted(set(labels)), file)\n",
    "            \n",
    "num_classes = len(set(labels))"
   ]
  },
  {
   "cell_type": "code",
   "execution_count": 21,
   "id": "272cf5e7",
   "metadata": {},
   "outputs": [],
   "source": [
    "# Splitting Data\n",
    "X_train, X_test, y_train_names, y_test_names = train_test_split(data, labels, test_size=0.2, random_state=42)\n",
    "X_train, X_val, y_train_names, y_val_names = train_test_split(X_train, y_train_names, test_size=0.1, random_state=42)\n",
    "\n",
    "# Normalizing pixel values\n",
    "X_train = np.array(X_train) / 255.0  \n",
    "X_test = np.array(X_test) / 255.0\n",
    "X_val = np.array(X_val) / 255.0\n",
    "\n",
    "# Mapping employee names to numerical labels\n",
    "label_to_index = {label: index for index, label in enumerate(sorted(set(labels)))}\n",
    "y_train = np.array([label_to_index[label] for label in y_train_names])\n",
    "y_test = np.array([label_to_index[label] for label in y_test_names])\n",
    "y_val = np.array([label_to_index[label] for label in y_val_names])\n",
    "\n",
    "# Converting numerical labels to categorical format\n",
    "y_train = to_categorical(y_train, num_classes=num_classes)\n",
    "y_test = to_categorical(y_test, num_classes=num_classes)\n",
    "y_val = to_categorical(y_val, num_classes=num_classes)"
   ]
  },
  {
   "cell_type": "code",
   "execution_count": 22,
   "id": "0f1651f4",
   "metadata": {},
   "outputs": [
    {
     "name": "stdout",
     "output_type": "stream",
     "text": [
      "{0: 0.992, 1: 0.992, 2: 0.992, 3: 1.0333333333333334, 4: 0.992}\n"
     ]
    }
   ],
   "source": [
    "# Calculating class weights\n",
    "class_weights = compute_class_weight(\n",
    "    class_weight='balanced', \n",
    "    classes=np.unique(labels), \n",
    "    y=labels\n",
    ")\n",
    "\n",
    "class_weights_dict = dict(enumerate(class_weights))\n",
    "print(class_weights_dict)"
   ]
  },
  {
   "cell_type": "markdown",
   "id": "0671aa12",
   "metadata": {},
   "source": [
    "## Training CNN Model"
   ]
  },
  {
   "cell_type": "code",
   "execution_count": 27,
   "id": "7aa04a2c",
   "metadata": {},
   "outputs": [],
   "source": [
    "# Defining CNN Model\n",
    "model = Sequential([\n",
    "    Conv2D(128, (3, 3), activation='relu', input_shape=(height, width, 3)),\n",
    "    MaxPooling2D((2, 2)),\n",
    "\n",
    "    Conv2D(128, (3, 3), activation='relu'),\n",
    "    MaxPooling2D((2, 2)),\n",
    "\n",
    "    Conv2D(256, (3, 3), activation='relu'),\n",
    "    MaxPooling2D((2, 2)),\n",
    "            \n",
    "    Conv2D(512, (3, 3), activation='relu'),\n",
    "    MaxPooling2D((2, 2)),\n",
    "\n",
    "    Conv2D(1024, (3, 3), activation='relu'),\n",
    "    MaxPooling2D((2, 2)),\n",
    "\n",
    "    Flatten(),\n",
    "    Dense(2048, activation='relu', kernel_regularizer=l2(0.001)),\n",
    "    Dropout(0.5),\n",
    "            \n",
    "    Dense(num_classes, activation='softmax', name='output_layer')\n",
    "])\n",
    "\n",
    "# Setting hyperparameters\n",
    "epochs = 33\n",
    "batch_size = 70\n",
    "lrate = 0.0001"
   ]
  },
  {
   "cell_type": "code",
   "execution_count": 28,
   "id": "84d02648",
   "metadata": {},
   "outputs": [
    {
     "name": "stdout",
     "output_type": "stream",
     "text": [
      "Model: \"sequential_4\"\n",
      "_________________________________________________________________\n",
      " Layer (type)                Output Shape              Param #   \n",
      "=================================================================\n",
      " conv2d_20 (Conv2D)          (None, 94, 94, 128)       3584      \n",
      "                                                                 \n",
      " max_pooling2d_20 (MaxPooli  (None, 47, 47, 128)       0         \n",
      " ng2D)                                                           \n",
      "                                                                 \n",
      " conv2d_21 (Conv2D)          (None, 45, 45, 128)       147584    \n",
      "                                                                 \n",
      " max_pooling2d_21 (MaxPooli  (None, 22, 22, 128)       0         \n",
      " ng2D)                                                           \n",
      "                                                                 \n",
      " conv2d_22 (Conv2D)          (None, 20, 20, 256)       295168    \n",
      "                                                                 \n",
      " max_pooling2d_22 (MaxPooli  (None, 10, 10, 256)       0         \n",
      " ng2D)                                                           \n",
      "                                                                 \n",
      " conv2d_23 (Conv2D)          (None, 8, 8, 512)         1180160   \n",
      "                                                                 \n",
      " max_pooling2d_23 (MaxPooli  (None, 4, 4, 512)         0         \n",
      " ng2D)                                                           \n",
      "                                                                 \n",
      " conv2d_24 (Conv2D)          (None, 2, 2, 1024)        4719616   \n",
      "                                                                 \n",
      " max_pooling2d_24 (MaxPooli  (None, 1, 1, 1024)        0         \n",
      " ng2D)                                                           \n",
      "                                                                 \n",
      " flatten_4 (Flatten)         (None, 1024)              0         \n",
      "                                                                 \n",
      " dense_4 (Dense)             (None, 2048)              2099200   \n",
      "                                                                 \n",
      " dropout_4 (Dropout)         (None, 2048)              0         \n",
      "                                                                 \n",
      " output_layer (Dense)        (None, 5)                 10245     \n",
      "                                                                 \n",
      "=================================================================\n",
      "Total params: 8455557 (32.26 MB)\n",
      "Trainable params: 8455557 (32.26 MB)\n",
      "Non-trainable params: 0 (0.00 Byte)\n",
      "_________________________________________________________________\n",
      "Epoch 1/33\n",
      "9/9 [==============================] - 12s 1s/step - loss: 2.9455 - accuracy: 0.2083 - val_loss: 2.9143 - val_accuracy: 0.1714 - lr: 1.0000e-04\n",
      "Epoch 2/33\n",
      "9/9 [==============================] - 11s 1s/step - loss: 2.8771 - accuracy: 0.1875 - val_loss: 2.8413 - val_accuracy: 0.2286 - lr: 1.0000e-04\n",
      "Epoch 3/33\n",
      "9/9 [==============================] - 11s 1s/step - loss: 2.8088 - accuracy: 0.2324 - val_loss: 2.7819 - val_accuracy: 0.1714 - lr: 1.0000e-04\n",
      "Epoch 4/33\n",
      "9/9 [==============================] - 11s 1s/step - loss: 2.7450 - accuracy: 0.2324 - val_loss: 2.7147 - val_accuracy: 0.2429 - lr: 1.0000e-04\n",
      "Epoch 5/33\n",
      "9/9 [==============================] - 12s 1s/step - loss: 2.6802 - accuracy: 0.2612 - val_loss: 2.6450 - val_accuracy: 0.3000 - lr: 1.0000e-04\n",
      "Epoch 6/33\n",
      "9/9 [==============================] - 11s 1s/step - loss: 2.6024 - accuracy: 0.3141 - val_loss: 2.5727 - val_accuracy: 0.2714 - lr: 1.0000e-04\n",
      "Epoch 7/33\n",
      "9/9 [==============================] - 11s 1s/step - loss: 2.5363 - accuracy: 0.2869 - val_loss: 2.5628 - val_accuracy: 0.2000 - lr: 1.0000e-04\n",
      "Epoch 8/33\n",
      "9/9 [==============================] - 11s 1s/step - loss: 2.4543 - accuracy: 0.2804 - val_loss: 2.4272 - val_accuracy: 0.2714 - lr: 1.0000e-04\n",
      "Epoch 9/33\n",
      "9/9 [==============================] - 11s 1s/step - loss: 2.3148 - accuracy: 0.3782 - val_loss: 2.2739 - val_accuracy: 0.3857 - lr: 1.0000e-04\n",
      "Epoch 10/33\n",
      "9/9 [==============================] - 11s 1s/step - loss: 2.1834 - accuracy: 0.4327 - val_loss: 2.1443 - val_accuracy: 0.4143 - lr: 1.0000e-04\n",
      "Epoch 11/33\n",
      "9/9 [==============================] - 11s 1s/step - loss: 2.0651 - accuracy: 0.4792 - val_loss: 2.1069 - val_accuracy: 0.5143 - lr: 1.0000e-04\n",
      "Epoch 12/33\n",
      "9/9 [==============================] - 12s 1s/step - loss: 1.9398 - accuracy: 0.5128 - val_loss: 1.9505 - val_accuracy: 0.4429 - lr: 1.0000e-04\n",
      "Epoch 13/33\n",
      "9/9 [==============================] - 11s 1s/step - loss: 1.8393 - accuracy: 0.5689 - val_loss: 1.8542 - val_accuracy: 0.5857 - lr: 1.0000e-04\n",
      "Epoch 14/33\n",
      "9/9 [==============================] - 11s 1s/step - loss: 1.7386 - accuracy: 0.5833 - val_loss: 1.7660 - val_accuracy: 0.5000 - lr: 1.0000e-04\n",
      "Epoch 15/33\n",
      "9/9 [==============================] - 12s 1s/step - loss: 1.6228 - accuracy: 0.6394 - val_loss: 1.6796 - val_accuracy: 0.6000 - lr: 1.0000e-04\n",
      "Epoch 16/33\n",
      "9/9 [==============================] - 11s 1s/step - loss: 1.5725 - accuracy: 0.6635 - val_loss: 1.6279 - val_accuracy: 0.5571 - lr: 1.0000e-04\n",
      "Epoch 17/33\n",
      "9/9 [==============================] - 11s 1s/step - loss: 1.5142 - accuracy: 0.6538 - val_loss: 1.5750 - val_accuracy: 0.5714 - lr: 1.0000e-04\n",
      "Epoch 18/33\n",
      "9/9 [==============================] - 10s 1s/step - loss: 1.4224 - accuracy: 0.6779 - val_loss: 1.4374 - val_accuracy: 0.6429 - lr: 1.0000e-04\n",
      "Epoch 19/33\n",
      "9/9 [==============================] - 12s 1s/step - loss: 1.3266 - accuracy: 0.7163 - val_loss: 1.3481 - val_accuracy: 0.6857 - lr: 1.0000e-04\n",
      "Epoch 20/33\n",
      "9/9 [==============================] - 11s 1s/step - loss: 1.2553 - accuracy: 0.7612 - val_loss: 1.3525 - val_accuracy: 0.7429 - lr: 1.0000e-04\n",
      "Epoch 21/33\n",
      "9/9 [==============================] - 11s 1s/step - loss: 1.1546 - accuracy: 0.7949 - val_loss: 1.1839 - val_accuracy: 0.7714 - lr: 1.0000e-04\n",
      "Epoch 22/33\n",
      "9/9 [==============================] - 12s 1s/step - loss: 1.1130 - accuracy: 0.7949 - val_loss: 1.1395 - val_accuracy: 0.7429 - lr: 1.0000e-04\n",
      "Epoch 23/33\n",
      "9/9 [==============================] - 10s 1s/step - loss: 1.0572 - accuracy: 0.7981 - val_loss: 1.2151 - val_accuracy: 0.7143 - lr: 1.0000e-04\n",
      "Epoch 24/33\n",
      "9/9 [==============================] - 10s 1s/step - loss: 1.0008 - accuracy: 0.8333 - val_loss: 1.1004 - val_accuracy: 0.7714 - lr: 1.0000e-04\n",
      "Epoch 25/33\n",
      "9/9 [==============================] - 12s 1s/step - loss: 0.9258 - accuracy: 0.8734 - val_loss: 1.0484 - val_accuracy: 0.7571 - lr: 1.0000e-04\n",
      "Epoch 26/33\n",
      "9/9 [==============================] - 12s 1s/step - loss: 0.8478 - accuracy: 0.9022 - val_loss: 0.9575 - val_accuracy: 0.7857 - lr: 1.0000e-04\n",
      "Epoch 27/33\n",
      "9/9 [==============================] - 12s 1s/step - loss: 0.7813 - accuracy: 0.9119 - val_loss: 0.9163 - val_accuracy: 0.8714 - lr: 1.0000e-04\n",
      "Epoch 28/33\n",
      "9/9 [==============================] - 12s 1s/step - loss: 0.7401 - accuracy: 0.9231 - val_loss: 1.0310 - val_accuracy: 0.7571 - lr: 1.0000e-04\n",
      "Epoch 29/33\n",
      "9/9 [==============================] - 12s 1s/step - loss: 0.7641 - accuracy: 0.8974 - val_loss: 0.8886 - val_accuracy: 0.8000 - lr: 1.0000e-04\n",
      "Epoch 30/33\n",
      "9/9 [==============================] - 12s 1s/step - loss: 0.7168 - accuracy: 0.9167 - val_loss: 1.0422 - val_accuracy: 0.7571 - lr: 1.0000e-04\n",
      "Epoch 31/33\n",
      "9/9 [==============================] - 12s 1s/step - loss: 0.6564 - accuracy: 0.9423 - val_loss: 0.8848 - val_accuracy: 0.8143 - lr: 1.0000e-04\n",
      "Epoch 32/33\n",
      "9/9 [==============================] - 11s 1s/step - loss: 0.6202 - accuracy: 0.9423 - val_loss: 0.8364 - val_accuracy: 0.8000 - lr: 1.0000e-04\n",
      "Epoch 33/33\n",
      "9/9 [==============================] - 12s 1s/step - loss: 0.5659 - accuracy: 0.9712 - val_loss: 0.8532 - val_accuracy: 0.8714 - lr: 1.0000e-04\n",
      "6/6 [==============================] - 1s 119ms/step - loss: 0.9409 - accuracy: 0.8333\n",
      "Test Loss: 0.9408727288246155, Test Accuracy: 0.8333333134651184\n",
      "--------------------------x--------------------------x--------------------------\n",
      "Loss: 0.9409\n",
      "Accuracy: 83.33%\n"
     ]
    }
   ],
   "source": [
    "# Training the Model\n",
    "adam = Adam(learning_rate=lrate)\n",
    "model.compile(optimizer=adam, loss='categorical_crossentropy', metrics=['accuracy'])\n",
    "\n",
    "model.summary()\n",
    "\n",
    "early_stopping = EarlyStopping(monitor='val_loss', patience=10, restore_best_weights=True)\n",
    "reduce_lr = ReduceLROnPlateau(monitor='val_loss', factor=0.2, patience=5, min_lr=0.00001)\n",
    "\n",
    "history = model.fit(X_train, y_train, epochs=epochs,\n",
    "                    batch_size=batch_size, verbose=1,\n",
    "                    class_weight=class_weights_dict, \n",
    "                    validation_data=(X_val, y_val),\n",
    "                    callbacks=[early_stopping, reduce_lr])\n",
    "\n",
    "# Training Results\n",
    "test_loss, test_accuracy = model.evaluate(X_test, y_test)\n",
    "print(f\"Test Loss: {test_loss}, Test Accuracy: {test_accuracy}\")\n",
    "print(\"--------------------------x--------------------------x--------------------------\")\n",
    "print(f\"Loss: {test_loss:.4f}\")\n",
    "print(\"Accuracy: %.2f%%\" % (test_accuracy * 100))\n",
    "\n",
    "# Save the model\n",
    "model.save(\"models/NEWmodel2.keras\")"
   ]
  },
  {
   "cell_type": "markdown",
   "id": "2794d60f",
   "metadata": {},
   "source": [
    "## Evaluation Metrics: Accuracy, Precision, Recall, and F1-Score"
   ]
  },
  {
   "cell_type": "code",
   "execution_count": 29,
   "id": "c86d82fa",
   "metadata": {},
   "outputs": [
    {
     "name": "stdout",
     "output_type": "stream",
     "text": [
      "6/6 [==============================] - 1s 124ms/step\n",
      "Classification Report:\n",
      "              precision    recall  f1-score   support\n",
      "\n",
      "           0       0.89      0.94      0.92        36\n",
      "           1       0.86      0.69      0.76        35\n",
      "           2       0.91      0.94      0.93        33\n",
      "           3       0.71      0.83      0.77        36\n",
      "           4       0.81      0.76      0.79        34\n",
      "\n",
      "    accuracy                           0.83       174\n",
      "   macro avg       0.84      0.83      0.83       174\n",
      "weighted avg       0.84      0.83      0.83       174\n",
      "\n",
      "Accuracy: 0.8333\n",
      "Precision: 0.8370\n",
      "Recall: 0.8333\n",
      "F1 Score: 0.8320\n"
     ]
    }
   ],
   "source": [
    "# Predict on test data\n",
    "y_pred = model.predict(X_test)\n",
    "y_pred_classes = np.argmax(y_pred, axis=1)\n",
    "y_test_classes = np.argmax(y_test, axis=1)\n",
    "    \n",
    "# Calculate evaluation metrics\n",
    "print(\"Classification Report:\")\n",
    "print(classification_report(y_test_classes, y_pred_classes))\n",
    "    \n",
    "accuracy = accuracy_score(y_test_classes, y_pred_classes)\n",
    "precision = precision_score(y_test_classes, y_pred_classes, average='weighted')\n",
    "recall = recall_score(y_test_classes, y_pred_classes, average='weighted')\n",
    "f1 = f1_score(y_test_classes, y_pred_classes, average='weighted')\n",
    "    \n",
    "print(f\"Accuracy: {accuracy:.4f}\")\n",
    "print(f\"Precision: {precision:.4f}\")\n",
    "print(f\"Recall: {recall:.4f}\")\n",
    "print(f\"F1 Score: {f1:.4f}\")"
   ]
  },
  {
   "cell_type": "code",
   "execution_count": 30,
   "id": "f7b1d847",
   "metadata": {},
   "outputs": [
    {
     "data": {
      "text/plain": [
       "Text(0.5, 1.0, 'Confusion Matrix')"
      ]
     },
     "execution_count": 30,
     "metadata": {},
     "output_type": "execute_result"
    },
    {
     "data": {
      "image/png": "[encoded data removed]",
      "text/plain": [
       "<Figure size 1000x800 with 2 Axes>"
      ]
     },
     "metadata": {},
     "output_type": "display_data"
    }
   ],
   "source": [
    "# Confusion Matrix\n",
    "cm = confusion_matrix(y_test_classes, y_pred_classes)\n",
    "plt.figure(figsize=(10, 8))\n",
    "sns.heatmap(cm, annot=True, fmt='d', cmap='Blues', xticklabels=sorted(set(labels)), yticklabels=sorted(set(labels)))\n",
    "plt.xlabel('Predicted')\n",
    "plt.ylabel('True')\n",
    "plt.title('Confusion Matrix')"
   ]
  },
  {
   "cell_type": "code",
   "execution_count": null,
   "id": "8e9111ec",
   "metadata": {},
   "outputs": [],
   "source": []
  }
 ],
 "metadata": {
  "kernelspec": {
   "display_name": "Python 3 (ipykernel)",
   "language": "python",
   "name": "python3"
  },
  "language_info": {
   "codemirror_mode": {
    "name": "ipython",
    "version": 3
   },
   "file_extension": ".py",
   "mimetype": "text/x-python",
   "name": "python",
   "nbconvert_exporter": "python",
   "pygments_lexer": "ipython3",
   "version": "3.11.5"
  }
 },
 "nbformat": 4,
 "nbformat_minor": 5
}
